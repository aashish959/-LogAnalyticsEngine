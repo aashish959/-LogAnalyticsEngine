{
  "nbformat": 4,
  "nbformat_minor": 0,
  "metadata": {
    "colab": {
      "provenance": [],
      "authorship_tag": "ABX9TyMTHwUxNqjwxGdXp+/+vbMe",
      "include_colab_link": true
    },
    "kernelspec": {
      "name": "python3",
      "display_name": "Python 3"
    },
    "language_info": {
      "name": "python"
    }
  },
  "cells": [
    {
      "cell_type": "markdown",
      "metadata": {
        "id": "view-in-github",
        "colab_type": "text"
      },
      "source": [
        "<a href=\"https://colab.research.google.com/github/aashish959/-LogAnalyticsEngine/blob/main/blackbucks_project.ipynb\" target=\"_parent\"><img src=\"https://colab.research.google.com/assets/colab-badge.svg\" alt=\"Open In Colab\"/></a>"
      ]
    },
    {
      "cell_type": "code",
      "source": [
        "# Install Java\n",
        "!apt-get install openjdk-11-jdk-headless -qq > /dev/null\n",
        "\n",
        "# Download Spark 3.3.2 with Hadoop 3 from a verified mirror\n",
        "!wget -O spark-3.3.2-bin-hadoop3.tgz https://archive.apache.org/dist/spark/spark-3.3.2/spark-3.3.2-bin-hadoop3.tgz\n"
      ],
      "metadata": {
        "colab": {
          "base_uri": "https://localhost:8080/"
        },
        "id": "7MtqZsO1cuhD",
        "outputId": "5b3b6125-705b-457d-9b4f-059a09d17e4a"
      },
      "execution_count": 38,
      "outputs": [
        {
          "output_type": "stream",
          "name": "stdout",
          "text": [
            "--2025-05-24 09:51:37--  https://archive.apache.org/dist/spark/spark-3.3.2/spark-3.3.2-bin-hadoop3.tgz\n",
            "Resolving archive.apache.org (archive.apache.org)... 65.108.204.189, 2a01:4f9:1a:a084::2\n",
            "Connecting to archive.apache.org (archive.apache.org)|65.108.204.189|:443... connected.\n",
            "HTTP request sent, awaiting response... 200 OK\n",
            "Length: 299360284 (285M) [application/x-gzip]\n",
            "Saving to: ‘spark-3.3.2-bin-hadoop3.tgz’\n",
            "\n",
            "spark-3.3.2-bin-had 100%[===================>] 285.49M  14.0MB/s    in 22s     \n",
            "\n",
            "2025-05-24 09:52:00 (13.1 MB/s) - ‘spark-3.3.2-bin-hadoop3.tgz’ saved [299360284/299360284]\n",
            "\n"
          ]
        }
      ]
    },
    {
      "cell_type": "code",
      "source": [
        "# Extract Spark\n",
        "!tar -xzf spark-3.3.2-bin-hadoop3.tgz\n",
        "\n",
        "# Install findspark to integrate with Colab Python\n",
        "!pip install -q findspark\n"
      ],
      "metadata": {
        "id": "TfDMzp6qc4Sx"
      },
      "execution_count": 39,
      "outputs": []
    },
    {
      "cell_type": "code",
      "source": [
        "import os\n",
        "import findspark\n",
        "\n",
        "# Set environment variables\n",
        "os.environ[\"JAVA_HOME\"] = \"/usr/lib/jvm/java-11-openjdk-amd64\"\n",
        "os.environ[\"SPARK_HOME\"] = \"/content/spark-3.3.2-bin-hadoop3\"\n",
        "\n",
        "# Initialize findspark\n",
        "findspark.init()\n",
        "\n",
        "# Create Spark session\n",
        "from pyspark.sql import SparkSession\n",
        "spark = SparkSession.builder.appName(\"LogAnalysis\").getOrCreate()\n",
        "\n",
        "print(\"✅ Spark session started successfully!\")\n"
      ],
      "metadata": {
        "colab": {
          "base_uri": "https://localhost:8080/"
        },
        "id": "8jsSU7pdc-RM",
        "outputId": "0b81683d-6de6-45ce-8105-9e75dfed9a57"
      },
      "execution_count": 40,
      "outputs": [
        {
          "output_type": "stream",
          "name": "stdout",
          "text": [
            "✅ Spark session started successfully!\n"
          ]
        }
      ]
    },
    {
      "cell_type": "code",
      "source": [
        "from google.colab import files\n",
        "uploaded = files.upload()\n"
      ],
      "metadata": {
        "colab": {
          "base_uri": "https://localhost:8080/",
          "height": 73
        },
        "id": "hex5kRnReGGv",
        "outputId": "a5336323-e0e0-46a4-d703-32ca3e1c538e"
      },
      "execution_count": 41,
      "outputs": [
        {
          "output_type": "display_data",
          "data": {
            "text/plain": [
              "<IPython.core.display.HTML object>"
            ],
            "text/html": [
              "\n",
              "     <input type=\"file\" id=\"files-25a7cda4-4d24-48bf-a654-6d9a9e51aea6\" name=\"files[]\" multiple disabled\n",
              "        style=\"border:none\" />\n",
              "     <output id=\"result-25a7cda4-4d24-48bf-a654-6d9a9e51aea6\">\n",
              "      Upload widget is only available when the cell has been executed in the\n",
              "      current browser session. Please rerun this cell to enable.\n",
              "      </output>\n",
              "      <script>// Copyright 2017 Google LLC\n",
              "//\n",
              "// Licensed under the Apache License, Version 2.0 (the \"License\");\n",
              "// you may not use this file except in compliance with the License.\n",
              "// You may obtain a copy of the License at\n",
              "//\n",
              "//      http://www.apache.org/licenses/LICENSE-2.0\n",
              "//\n",
              "// Unless required by applicable law or agreed to in writing, software\n",
              "// distributed under the License is distributed on an \"AS IS\" BASIS,\n",
              "// WITHOUT WARRANTIES OR CONDITIONS OF ANY KIND, either express or implied.\n",
              "// See the License for the specific language governing permissions and\n",
              "// limitations under the License.\n",
              "\n",
              "/**\n",
              " * @fileoverview Helpers for google.colab Python module.\n",
              " */\n",
              "(function(scope) {\n",
              "function span(text, styleAttributes = {}) {\n",
              "  const element = document.createElement('span');\n",
              "  element.textContent = text;\n",
              "  for (const key of Object.keys(styleAttributes)) {\n",
              "    element.style[key] = styleAttributes[key];\n",
              "  }\n",
              "  return element;\n",
              "}\n",
              "\n",
              "// Max number of bytes which will be uploaded at a time.\n",
              "const MAX_PAYLOAD_SIZE = 100 * 1024;\n",
              "\n",
              "function _uploadFiles(inputId, outputId) {\n",
              "  const steps = uploadFilesStep(inputId, outputId);\n",
              "  const outputElement = document.getElementById(outputId);\n",
              "  // Cache steps on the outputElement to make it available for the next call\n",
              "  // to uploadFilesContinue from Python.\n",
              "  outputElement.steps = steps;\n",
              "\n",
              "  return _uploadFilesContinue(outputId);\n",
              "}\n",
              "\n",
              "// This is roughly an async generator (not supported in the browser yet),\n",
              "// where there are multiple asynchronous steps and the Python side is going\n",
              "// to poll for completion of each step.\n",
              "// This uses a Promise to block the python side on completion of each step,\n",
              "// then passes the result of the previous step as the input to the next step.\n",
              "function _uploadFilesContinue(outputId) {\n",
              "  const outputElement = document.getElementById(outputId);\n",
              "  const steps = outputElement.steps;\n",
              "\n",
              "  const next = steps.next(outputElement.lastPromiseValue);\n",
              "  return Promise.resolve(next.value.promise).then((value) => {\n",
              "    // Cache the last promise value to make it available to the next\n",
              "    // step of the generator.\n",
              "    outputElement.lastPromiseValue = value;\n",
              "    return next.value.response;\n",
              "  });\n",
              "}\n",
              "\n",
              "/**\n",
              " * Generator function which is called between each async step of the upload\n",
              " * process.\n",
              " * @param {string} inputId Element ID of the input file picker element.\n",
              " * @param {string} outputId Element ID of the output display.\n",
              " * @return {!Iterable<!Object>} Iterable of next steps.\n",
              " */\n",
              "function* uploadFilesStep(inputId, outputId) {\n",
              "  const inputElement = document.getElementById(inputId);\n",
              "  inputElement.disabled = false;\n",
              "\n",
              "  const outputElement = document.getElementById(outputId);\n",
              "  outputElement.innerHTML = '';\n",
              "\n",
              "  const pickedPromise = new Promise((resolve) => {\n",
              "    inputElement.addEventListener('change', (e) => {\n",
              "      resolve(e.target.files);\n",
              "    });\n",
              "  });\n",
              "\n",
              "  const cancel = document.createElement('button');\n",
              "  inputElement.parentElement.appendChild(cancel);\n",
              "  cancel.textContent = 'Cancel upload';\n",
              "  const cancelPromise = new Promise((resolve) => {\n",
              "    cancel.onclick = () => {\n",
              "      resolve(null);\n",
              "    };\n",
              "  });\n",
              "\n",
              "  // Wait for the user to pick the files.\n",
              "  const files = yield {\n",
              "    promise: Promise.race([pickedPromise, cancelPromise]),\n",
              "    response: {\n",
              "      action: 'starting',\n",
              "    }\n",
              "  };\n",
              "\n",
              "  cancel.remove();\n",
              "\n",
              "  // Disable the input element since further picks are not allowed.\n",
              "  inputElement.disabled = true;\n",
              "\n",
              "  if (!files) {\n",
              "    return {\n",
              "      response: {\n",
              "        action: 'complete',\n",
              "      }\n",
              "    };\n",
              "  }\n",
              "\n",
              "  for (const file of files) {\n",
              "    const li = document.createElement('li');\n",
              "    li.append(span(file.name, {fontWeight: 'bold'}));\n",
              "    li.append(span(\n",
              "        `(${file.type || 'n/a'}) - ${file.size} bytes, ` +\n",
              "        `last modified: ${\n",
              "            file.lastModifiedDate ? file.lastModifiedDate.toLocaleDateString() :\n",
              "                                    'n/a'} - `));\n",
              "    const percent = span('0% done');\n",
              "    li.appendChild(percent);\n",
              "\n",
              "    outputElement.appendChild(li);\n",
              "\n",
              "    const fileDataPromise = new Promise((resolve) => {\n",
              "      const reader = new FileReader();\n",
              "      reader.onload = (e) => {\n",
              "        resolve(e.target.result);\n",
              "      };\n",
              "      reader.readAsArrayBuffer(file);\n",
              "    });\n",
              "    // Wait for the data to be ready.\n",
              "    let fileData = yield {\n",
              "      promise: fileDataPromise,\n",
              "      response: {\n",
              "        action: 'continue',\n",
              "      }\n",
              "    };\n",
              "\n",
              "    // Use a chunked sending to avoid message size limits. See b/62115660.\n",
              "    let position = 0;\n",
              "    do {\n",
              "      const length = Math.min(fileData.byteLength - position, MAX_PAYLOAD_SIZE);\n",
              "      const chunk = new Uint8Array(fileData, position, length);\n",
              "      position += length;\n",
              "\n",
              "      const base64 = btoa(String.fromCharCode.apply(null, chunk));\n",
              "      yield {\n",
              "        response: {\n",
              "          action: 'append',\n",
              "          file: file.name,\n",
              "          data: base64,\n",
              "        },\n",
              "      };\n",
              "\n",
              "      let percentDone = fileData.byteLength === 0 ?\n",
              "          100 :\n",
              "          Math.round((position / fileData.byteLength) * 100);\n",
              "      percent.textContent = `${percentDone}% done`;\n",
              "\n",
              "    } while (position < fileData.byteLength);\n",
              "  }\n",
              "\n",
              "  // All done.\n",
              "  yield {\n",
              "    response: {\n",
              "      action: 'complete',\n",
              "    }\n",
              "  };\n",
              "}\n",
              "\n",
              "scope.google = scope.google || {};\n",
              "scope.google.colab = scope.google.colab || {};\n",
              "scope.google.colab._files = {\n",
              "  _uploadFiles,\n",
              "  _uploadFilesContinue,\n",
              "};\n",
              "})(self);\n",
              "</script> "
            ]
          },
          "metadata": {}
        },
        {
          "output_type": "stream",
          "name": "stdout",
          "text": [
            "Saving archive (2).zip to archive (2) (1).zip\n"
          ]
        }
      ]
    },
    {
      "cell_type": "code",
      "source": [
        "import zipfile\n",
        "import os\n",
        "\n",
        "# Update with actual uploaded filename\n",
        "zip_path = \"/content/archive (2).zip\"\n",
        "extract_path = \"/content/logdata\"\n",
        "\n",
        "# Unzip the file\n",
        "with zipfile.ZipFile(zip_path, 'r') as zip_ref:\n",
        "    zip_ref.extractall(extract_path)\n",
        "\n",
        "# List extracted files\n",
        "for root, dirs, files in os.walk(extract_path):\n",
        "    for file in files:\n",
        "        print(os.path.join(root, file))\n"
      ],
      "metadata": {
        "colab": {
          "base_uri": "https://localhost:8080/"
        },
        "id": "gbrWTw5teNex",
        "outputId": "b8575b48-46f2-4b73-d770-f57f7b0353f6"
      },
      "execution_count": 42,
      "outputs": [
        {
          "output_type": "stream",
          "name": "stdout",
          "text": [
            "/content/logdata/web-server-access-logs_10k.log\n"
          ]
        }
      ]
    },
    {
      "cell_type": "code",
      "source": [
        "# Download Spark 3.5.5\n",
        "!wget https://downloads.apache.org/spark/spark-3.5.5/spark-3.5.5-bin-hadoop3.tgz\n",
        "\n",
        "# Extract the downloaded file\n",
        "!tar xf spark-3.5.5-bin-hadoop3.tgz\n"
      ],
      "metadata": {
        "colab": {
          "base_uri": "https://localhost:8080/"
        },
        "id": "MkTHLQwyf99F",
        "outputId": "c7b321b0-f2e5-4faf-992e-6e3b74a41f3e"
      },
      "execution_count": 43,
      "outputs": [
        {
          "output_type": "stream",
          "name": "stdout",
          "text": [
            "--2025-05-24 09:53:07--  https://downloads.apache.org/spark/spark-3.5.5/spark-3.5.5-bin-hadoop3.tgz\n",
            "Resolving downloads.apache.org (downloads.apache.org)... 88.99.208.237, 135.181.214.104, 2a01:4f8:10a:39da::2, ...\n",
            "Connecting to downloads.apache.org (downloads.apache.org)|88.99.208.237|:443... connected.\n",
            "HTTP request sent, awaiting response... 200 OK\n",
            "Length: 400724056 (382M) [application/x-gzip]\n",
            "Saving to: ‘spark-3.5.5-bin-hadoop3.tgz.2’\n",
            "\n",
            "spark-3.5.5-bin-had 100%[===================>] 382.16M  16.3MB/s    in 24s     \n",
            "\n",
            "2025-05-24 09:53:32 (15.7 MB/s) - ‘spark-3.5.5-bin-hadoop3.tgz.2’ saved [400724056/400724056]\n",
            "\n"
          ]
        }
      ]
    },
    {
      "cell_type": "code",
      "source": [
        "# Install OpenJDK 8\n",
        "!apt-get install openjdk-8-jdk-headless -qq > /dev/null\n",
        "\n",
        "# Install findspark for Spark integration\n",
        "!pip install -q findspark\n"
      ],
      "metadata": {
        "id": "55oNENwtgTcj"
      },
      "execution_count": 44,
      "outputs": []
    },
    {
      "cell_type": "code",
      "source": [
        "import os\n",
        "\n",
        "# Set environment variables for Java and Spark\n",
        "os.environ[\"JAVA_HOME\"] = \"/usr/lib/jvm/java-8-openjdk-amd64\"\n",
        "os.environ[\"SPARK_HOME\"] = \"/content/spark-3.5.5-bin-hadoop3\"\n",
        "\n",
        "import findspark\n",
        "findspark.init()\n"
      ],
      "metadata": {
        "id": "4UiIGr9dgb1B"
      },
      "execution_count": 45,
      "outputs": []
    },
    {
      "cell_type": "code",
      "source": [
        "from pyspark.sql import SparkSession\n",
        "\n",
        "# Initialize Spark session\n",
        "spark = SparkSession.builder \\\n",
        "    .appName(\"RealTimeLogAnalysis\") \\\n",
        "    .getOrCreate()\n"
      ],
      "metadata": {
        "id": "HJxMLFuCgfji"
      },
      "execution_count": 46,
      "outputs": []
    },
    {
      "cell_type": "code",
      "source": [
        "import os\n",
        "\n",
        "input_file = \"/content/logdata/web-server-access-logs_10k.log\"\n",
        "stream_folder = \"/content/logdata_stream\"\n",
        "os.makedirs(stream_folder, exist_ok=True)\n",
        "\n",
        "chunk_size = 500  # Number of lines per smaller file\n",
        "\n",
        "with open(input_file, \"r\") as infile:\n",
        "    lines = infile.readlines()\n",
        "\n",
        "for i in range(0, len(lines), chunk_size):\n",
        "    chunk = lines[i:i+chunk_size]\n",
        "    with open(f\"{stream_folder}/log_part_{i//chunk_size}.log\", \"w\") as outfile:\n",
        "        outfile.writelines(chunk)\n"
      ],
      "metadata": {
        "id": "3CrF7vplgjQr"
      },
      "execution_count": 47,
      "outputs": []
    },
    {
      "cell_type": "code",
      "source": [
        "from pyspark.sql.functions import regexp_extract, col, when\n",
        "\n",
        "# Read new files as streaming text lines\n",
        "logs_stream = spark.readStream.text(stream_folder)\n",
        "\n",
        "# Regex pattern for parsing Apache log format\n",
        "pattern = r'(\\S+) (\\S+) (\\S+) \\[(.*?)\\] \"(.*?)\" (\\d{3}) (\\S+)'\n",
        "\n",
        "# Parse log lines into structured columns\n",
        "logs_parsed = logs_stream.select(\n",
        "    regexp_extract(\"value\", pattern, 1).alias(\"ip\"),\n",
        "    regexp_extract(\"value\", pattern, 2).alias(\"client\"),\n",
        "    regexp_extract(\"value\", pattern, 3).alias(\"user\"),\n",
        "    regexp_extract(\"value\", pattern, 4).alias(\"timestamp\"),\n",
        "    regexp_extract(\"value\", pattern, 5).alias(\"request\"),\n",
        "    regexp_extract(\"value\", pattern, 6).cast(\"integer\").alias(\"status\"),\n",
        "    regexp_extract(\"value\", pattern, 7).alias(\"size\")\n",
        ")\n",
        "\n",
        "# Convert 'size' column from string to integer, handle '-'\n",
        "logs_parsed = logs_parsed.withColumn(\n",
        "    \"size\",\n",
        "    when(col(\"size\") == \"-\", 0).otherwise(col(\"size\").cast(\"integer\"))\n",
        ")\n"
      ],
      "metadata": {
        "id": "DnpUkCf2gy3d"
      },
      "execution_count": 48,
      "outputs": []
    },
    {
      "cell_type": "code",
      "source": [
        "status_counts = logs_parsed.groupBy(\"status\").count()\n"
      ],
      "metadata": {
        "id": "ZT3KabIeg3wH"
      },
      "execution_count": 49,
      "outputs": []
    },
    {
      "cell_type": "code",
      "source": [
        "query = status_counts.writeStream \\\n",
        "    .outputMode(\"complete\") \\\n",
        "    .format(\"console\") \\\n",
        "    .start()\n",
        "\n",
        "query.awaitTermination(30)  # Stream for 30 seconds\n",
        "query.stop()\n"
      ],
      "metadata": {
        "id": "p0nmioVKg70Y"
      },
      "execution_count": 50,
      "outputs": []
    },
    {
      "cell_type": "code",
      "source": [
        "import shutil\n",
        "shutil.rmtree(\"/content/logdata_stream\")\n",
        "os.makedirs(\"/content/logdata_stream\", exist_ok=True)\n"
      ],
      "metadata": {
        "id": "uZ_y-Xalhhu6"
      },
      "execution_count": 51,
      "outputs": []
    },
    {
      "cell_type": "code",
      "source": [
        "query = status_counts.writeStream \\\n",
        "    .outputMode(\"complete\") \\\n",
        "    .format(\"console\") \\\n",
        "    .start()\n"
      ],
      "metadata": {
        "id": "b0OHwDXChjcu"
      },
      "execution_count": 52,
      "outputs": []
    },
    {
      "cell_type": "code",
      "source": [
        "import time\n",
        "import shutil\n",
        "\n",
        "input_file = \"/content/logdata/web-server-access-logs_10k.log\"\n",
        "stream_folder = \"/content/logdata_stream\"\n",
        "chunk_size = 500\n",
        "\n",
        "with open(input_file, \"r\") as infile:\n",
        "    lines = infile.readlines()\n",
        "\n",
        "for i in range(0, len(lines), chunk_size):\n",
        "    chunk = lines[i:i+chunk_size]\n",
        "    file_path = f\"{stream_folder}/log_part_{i//chunk_size}.log\"\n",
        "    with open(file_path, \"w\") as outfile:\n",
        "        outfile.writelines(chunk)\n",
        "    print(f\"Added {file_path}\")\n",
        "    time.sleep(5)  # wait 5 seconds before adding next chunk\n"
      ],
      "metadata": {
        "colab": {
          "base_uri": "https://localhost:8080/"
        },
        "id": "Hk-HG22ShmXQ",
        "outputId": "4fda3c38-2d06-405f-e8b0-2f880816bb05"
      },
      "execution_count": 53,
      "outputs": [
        {
          "output_type": "stream",
          "name": "stdout",
          "text": [
            "Added /content/logdata_stream/log_part_0.log\n",
            "Added /content/logdata_stream/log_part_1.log\n",
            "Added /content/logdata_stream/log_part_2.log\n",
            "Added /content/logdata_stream/log_part_3.log\n",
            "Added /content/logdata_stream/log_part_4.log\n",
            "Added /content/logdata_stream/log_part_5.log\n",
            "Added /content/logdata_stream/log_part_6.log\n",
            "Added /content/logdata_stream/log_part_7.log\n",
            "Added /content/logdata_stream/log_part_8.log\n",
            "Added /content/logdata_stream/log_part_9.log\n",
            "Added /content/logdata_stream/log_part_10.log\n",
            "Added /content/logdata_stream/log_part_11.log\n",
            "Added /content/logdata_stream/log_part_12.log\n",
            "Added /content/logdata_stream/log_part_13.log\n",
            "Added /content/logdata_stream/log_part_14.log\n",
            "Added /content/logdata_stream/log_part_15.log\n",
            "Added /content/logdata_stream/log_part_16.log\n",
            "Added /content/logdata_stream/log_part_17.log\n",
            "Added /content/logdata_stream/log_part_18.log\n",
            "Added /content/logdata_stream/log_part_19.log\n",
            "Added /content/logdata_stream/log_part_20.log\n"
          ]
        }
      ]
    },
    {
      "cell_type": "code",
      "source": [
        "query.stop()\n"
      ],
      "metadata": {
        "id": "jFLpG20Oh_zd"
      },
      "execution_count": 54,
      "outputs": []
    },
    {
      "cell_type": "code",
      "source": [
        "print(query.status)\n",
        "print(query.lastProgress)\n"
      ],
      "metadata": {
        "colab": {
          "base_uri": "https://localhost:8080/"
        },
        "id": "X19yKXDNiF8k",
        "outputId": "5a2a6f3e-6139-4e69-d954-cd962c541cf4"
      },
      "execution_count": 55,
      "outputs": [
        {
          "output_type": "stream",
          "name": "stdout",
          "text": [
            "{'message': 'Stopped', 'isDataAvailable': False, 'isTriggerActive': False}\n",
            "{'id': 'ec177ccc-555a-4ffd-af80-6bc8e6be5fa9', 'runId': '15334d92-38b2-4ef2-b48c-7cc55b39d617', 'name': None, 'timestamp': '2025-05-24T09:57:35.793Z', 'batchId': 12, 'numInputRows': 0, 'inputRowsPerSecond': 0.0, 'processedRowsPerSecond': 0.0, 'durationMs': {'latestOffset': 2, 'triggerExecution': 3}, 'stateOperators': [{'operatorName': 'stateStoreSave', 'numRowsTotal': 10, 'numRowsUpdated': 0, 'allUpdatesTimeMs': 408, 'numRowsRemoved': 0, 'allRemovalsTimeMs': 0, 'commitTimeMs': 11497, 'memoryUsedBytes': 88840, 'numRowsDroppedByWatermark': 0, 'numShufflePartitions': 200, 'numStateStoreInstances': 200, 'customMetrics': {'loadedMapCacheHitCount': 4400, 'loadedMapCacheMissCount': 0, 'stateOnCurrentVersionSizeBytes': 22560}}], 'sources': [{'description': 'FileStreamSource[file:/content/logdata_stream]', 'startOffset': {'logOffset': 11}, 'endOffset': {'logOffset': 11}, 'latestOffset': None, 'numInputRows': 0, 'inputRowsPerSecond': 0.0, 'processedRowsPerSecond': 0.0}], 'sink': {'description': 'org.apache.spark.sql.execution.streaming.ConsoleTable$@e352b05', 'numOutputRows': 0}}\n"
          ]
        }
      ]
    },
    {
      "cell_type": "code",
      "source": [
        "import matplotlib.pyplot as plt\n",
        "\n",
        "# Sample data (snapshot from streaming output)\n",
        "status_codes = [200, 404, 500]\n",
        "counts = [1450, 50, 11]\n",
        "\n",
        "plt.bar(status_codes, counts, color=['green', 'orange', 'red'])\n",
        "plt.xlabel('HTTP Status Code')\n",
        "plt.ylabel('Request Count')\n",
        "plt.title('Real-time HTTP Status Counts')\n",
        "plt.show()\n"
      ],
      "metadata": {
        "colab": {
          "base_uri": "https://localhost:8080/",
          "height": 472
        },
        "id": "gZaSufaAid0U",
        "outputId": "2f72d5a9-e038-49c8-f328-b3d71a4c8621"
      },
      "execution_count": 56,
      "outputs": [
        {
          "output_type": "display_data",
          "data": {
            "text/plain": [
              "<Figure size 640x480 with 1 Axes>"
            ],
            "image/png": "[encoded data removed]"
          },
          "metadata": {}
        }
      ]
    }
  ]
}